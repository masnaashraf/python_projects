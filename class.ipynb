{
 "cells": [
  {
   "cell_type": "code",
   "execution_count": 6,
   "id": "bbccfd70",
   "metadata": {},
   "outputs": [
    {
     "name": "stdout",
     "output_type": "stream",
     "text": [
      "Tom cruise shoots a film\n",
      "Tom cruise says how are you\n",
      "\n",
      " lets see another person\n",
      "maria sharapova says how are you\n"
     ]
    }
   ],
   "source": [
    "class Human:\n",
    "    def __init__(self,n,o):\n",
    "        self.name=n\n",
    "        self.occupation=o\n",
    "    \n",
    "    def do_work(self):\n",
    "        if self.occupation==\"tennis player\":\n",
    "            print(self.name,\"plays tennis\")\n",
    "        elif self.occupation==\"actor\":\n",
    "            print(self.name,\"shoots a film\")\n",
    "   \n",
    "    def speak(self):\n",
    "        print(self.name,\"says how are you\")\n",
    "        \n",
    "tom=Human(\"Tom cruise\",\"actor\")\n",
    "tom.do_work()\n",
    "tom.speak()\n",
    "\n",
    "print(\"\\n lets see another person\")\n",
    "maria=Human(\"maria sharapova\",\"tennis palayer\")\n",
    "maria.do_work()\n",
    "maria.speak()"
   ]
  },
  {
   "cell_type": "markdown",
   "id": "08ec3639",
   "metadata": {},
   "source": [
    "maria=Human(\"maria sharapova\",\"tennis palayer\")\n",
    "maria.do_work()\n",
    "maria.speak()"
   ]
  },
  {
   "cell_type": "code",
   "execution_count": null,
   "id": "df5bbb06",
   "metadata": {},
   "outputs": [],
   "source": []
  },
  {
   "cell_type": "code",
   "execution_count": null,
   "id": "f72198c6",
   "metadata": {},
   "outputs": [],
   "source": []
  },
  {
   "cell_type": "code",
   "execution_count": null,
   "id": "aa59fcae",
   "metadata": {},
   "outputs": [],
   "source": []
  }
 ],
 "metadata": {
  "kernelspec": {
   "display_name": "Python 3",
   "language": "python",
   "name": "python3"
  },
  "language_info": {
   "codemirror_mode": {
    "name": "ipython",
    "version": 3
   },
   "file_extension": ".py",
   "mimetype": "text/x-python",
   "name": "python",
   "nbconvert_exporter": "python",
   "pygments_lexer": "ipython3",
   "version": "3.8.8"
  }
 },
 "nbformat": 4,
 "nbformat_minor": 5
}
